{
 "cells": [
  {
   "cell_type": "code",
   "execution_count": 1,
   "id": "3bb4c3f4",
   "metadata": {},
   "outputs": [
    {
     "name": "stderr",
     "output_type": "stream",
     "text": [
      "[nltk_data] Downloading package punkt to /Users/lcsanchez/nltk_data...\n",
      "[nltk_data]   Package punkt is already up-to-date!\n"
     ]
    },
    {
     "data": {
      "text/plain": [
       "True"
      ]
     },
     "execution_count": 1,
     "metadata": {},
     "output_type": "execute_result"
    }
   ],
   "source": [
    "# Import necessary libraries\n",
    "import pandas as pd\n",
    "\n",
    "# Import necessary libraries/functions/modules\n",
    "import gensim.downloader\n",
    "import pandas as pd\n",
    "\n",
    "import nltk\n",
    "from nltk.tokenize import word_tokenize, sent_tokenize\n",
    "from gensim.models import Word2Vec\n",
    "import pandas as pd\n",
    "\n",
    "# Download NLTK resources (if not done previously)\n",
    "# nltk.download('punkt')"
   ]
  },
  {
   "cell_type": "markdown",
   "id": "ef46d8e7",
   "metadata": {},
   "source": [
    "# Functions"
   ]
  },
  {
   "cell_type": "code",
   "execution_count": 2,
   "id": "924bf632",
   "metadata": {},
   "outputs": [],
   "source": [
    "# Function used to evaluate the model:\n",
    "def model_evaluator(model, dataset):\n",
    "    # Prepare the output data:\n",
    "    output_data = []\n",
    "\n",
    "    # Iterate through each row in the dataset\n",
    "    for index, row in dataset.iterrows():\n",
    "        # Extract the question and answer words from the current row\n",
    "        question_word = row['question']\n",
    "        answer_word = row['answer']\n",
    "\n",
    "        # Generate a list of guess words from the current row\n",
    "        guess_words = [row[str(i)] for i in range(4)]\n",
    "\n",
    "        # Check if the question word is in the model\n",
    "        if question_word in model:\n",
    "            # Initialize a list to store similarities between question and guess words\n",
    "            similarities = []\n",
    "\n",
    "            # Loop through each guess word\n",
    "            for guess_word in guess_words:\n",
    "                # Check if the guess word is in the model\n",
    "                if guess_word in model:\n",
    "                    # Calculate the similarity between question and guess word using the similarity method from Gensim\n",
    "                    similarity = model.similarity(question_word, guess_word)\n",
    "                    # Store the guess word and its similarity score\n",
    "                    similarities.append((guess_word, similarity))\n",
    "\n",
    "            # Determine the best guess based on the highest similarity score\n",
    "            if similarities:\n",
    "                best_guess, _ = max(similarities, key=lambda x: x[1])\n",
    "                # Label as \"correct\" if the best guess matches the answer word\n",
    "                label = 'correct' if best_guess == answer_word else 'wrong'\n",
    "            else:\n",
    "                # If no valid guesses, set best guess to None and label as \"guess\"\n",
    "                best_guess = None\n",
    "                label = 'guess'\n",
    "        else:\n",
    "            # If question word is not in the model, no guess can be made\n",
    "            best_guess = None\n",
    "            label = 'guess'\n",
    "\n",
    "        # Append the results to the output data\n",
    "        output_data.append([question_word, answer_word, best_guess, label])\n",
    "    return output_data"
   ]
  },
  {
   "cell_type": "code",
   "execution_count": 3,
   "id": "ac4048a7",
   "metadata": {},
   "outputs": [],
   "source": [
    "# Function used to transform the data into a DataFrame and CSV file:\n",
    "def output_df(output_data, model_name):\n",
    "    # Convert the output data to a DataFrame and save the output to a CSV file:\n",
    "    output_df = pd.DataFrame(output_data, columns=['question-word', 'answer-word', 'guess-word', 'label'])\n",
    "    output_df.to_csv(model_name + \"-details.csv\", index=False)\n",
    "    return output_df"
   ]
  },
  {
   "cell_type": "code",
   "execution_count": 4,
   "id": "21a3f2c4",
   "metadata": {},
   "outputs": [],
   "source": [
    "# Function used to compute the metrics:\n",
    "def compute_accuracy(output_df):\n",
    "    # 1. Count the number of correct (C) and non-guess labels (V):\n",
    "    C = (output_df['label'] == 'correct').sum()\n",
    "    V = (output_df['label'] != 'guess').sum()\n",
    "\n",
    "    # 2. Calculate the accuracy:\n",
    "    if V:\n",
    "        accuracy = C / V\n",
    "    else:\n",
    "        accuracy = 0\n",
    "    return C, V, accuracy"
   ]
  },
  {
   "cell_type": "code",
   "execution_count": 5,
   "id": "096cfdc6",
   "metadata": {},
   "outputs": [],
   "source": [
    "# Function used to save all the details of several models in a dictionary:\n",
    "def save_data(analysis_dic, model_name, model, output_data):\n",
    "    C, V, accuracy = compute_accuracy(output_df(output_data, model_name))\n",
    "    new_entry = {\n",
    "        'model_name': model_name,\n",
    "        'vocabulary_size': len(model.key_to_index),\n",
    "        'correct_labels': C,\n",
    "        'answered_questions': V,\n",
    "        'accuracy': accuracy\n",
    "    }\n",
    "    analysis_dic[model_name] = new_entry"
   ]
  },
  {
   "cell_type": "code",
   "execution_count": null,
   "id": "116cbd78",
   "metadata": {},
   "outputs": [],
   "source": [
    "# Preprocess function to tokenize and split sentences\n",
    "def preprocess_books(books):\n",
    "    sentences = []\n",
    "    for book in books:\n",
    "        with open(book, 'r', encoding='utf-8') as file:\n",
    "            text = file.read()\n",
    "            # Tokenize into sentences\n",
    "            # .extend removes duplicates from the vocabulary list\n",
    "            sentences.extend(sent_tokenize(text))\n",
    "    return [word_tokenize(sentence.lower()) for sentence in sentences]"
   ]
  },
  {
   "cell_type": "markdown",
   "id": "14a46056",
   "metadata": {},
   "source": [
    "# Tasks"
   ]
  },
  {
   "cell_type": "code",
   "execution_count": 6,
   "id": "d3185f47",
   "metadata": {},
   "outputs": [],
   "source": [
    "# ----------------------------------------------------------------------------------------------------------------------\n",
    "# TASK 1\n",
    "# ----------------------------------------------------------------------------------------------------------------------\n",
    "# Load the pretrained embedding model:\n",
    "model_name = \"word2vec-google-news-300\"\n",
    "model = gensim.downloader.load(model_name)\n",
    "\n",
    "# Load the Synonym Test dataset:\n",
    "dataset = pd.read_csv(\"synonym.csv\")\n",
    "\n",
    "# Save the data:\n",
    "analysis_dic = {}\n",
    "save_data(analysis_dic, model_name, model, model_evaluator(model, dataset))\n",
    "\n",
    "# Convert dictionary to DataFrame:\n",
    "analysis_df = pd.DataFrame.from_dict(analysis_dic, orient=\"index\")\n",
    "\n",
    "# Save the DataFrame to a CSV file:\n",
    "analysis_df.to_csv('analysis.csv', index=False, header=False)"
   ]
  },
  {
   "cell_type": "code",
   "execution_count": 7,
   "id": "2d2a8cb3",
   "metadata": {},
   "outputs": [
    {
     "name": "stderr",
     "output_type": "stream",
     "text": [
      "[nltk_data] Downloading package punkt to /Users/lcsanchez/nltk_data...\n",
      "[nltk_data]   Package punkt is already up-to-date!\n"
     ]
    },
    {
     "data": {
      "text/plain": [
       "True"
      ]
     },
     "execution_count": 7,
     "metadata": {},
     "output_type": "execute_result"
    }
   ],
   "source": [
    "# ----------------------------------------------------------------------------------------------------------------------\n",
    "# TASK 2\n",
    "# ----------------------------------------------------------------------------------------------------------------------\n",
    "# Load the pretrained embedding model:\n",
    "model_name1 = \"glove-wiki-gigaword-300\"\n",
    "model_name2 = \"fasttext-wiki-news-subwords-300\"\n",
    "model_name3 = \"glove-twitter-100\"\n",
    "model_name4 = \"glove-twitter-200\"\n",
    "\n",
    "model1 = gensim.downloader.load(model_name1)\n",
    "model2 = gensim.downloader.load(model_name2)\n",
    "model3 = gensim.downloader.load(model_name3)\n",
    "model4 = gensim.downloader.load(model_name4)\n",
    "\n",
    "# Save the data:\n",
    "save_data(analysis_dic, model_name1, model1, model_evaluator(model1, dataset))\n",
    "save_data(analysis_dic, model_name2, model2, model_evaluator(model2, dataset))\n",
    "save_data(analysis_dic, model_name3, model3, model_evaluator(model3, dataset))\n",
    "save_data(analysis_dic, model_name4, model4, model_evaluator(model4, dataset))\n",
    "\n",
    "# Convert dictionary to DataFrame:\n",
    "analysis_df = pd.DataFrame.from_dict(analysis_dic, orient=\"index\")\n",
    "\n",
    "# Save the DataFrame to a CSV file:\n",
    "analysis_df.to_csv('analysis.csv', index=False, header=False)"
   ]
  },
  {
   "cell_type": "code",
   "execution_count": 8,
   "id": "2e16370e",
   "metadata": {},
   "outputs": [],
   "source": [
    "# ----------------------------------------------------------------------------------------------------------------------\n",
    "# TASK 3\n",
    "# ----------------------------------------------------------------------------------------------------------------------\n",
    "\n",
    "books = ['agnes_grey.txt', 'frankestein.txt', 'jane_eyre.txt', 'little_women.txt', 'mrs_dalloway.txt', 'pride_and_prejudice.txt', 'regiment_of_women.txt', 'wuthering_heights.txt']\n",
    "window_sizes = [100, 200]\n",
    "embedding_sizes = [100, 300]\n",
    "details = []\n",
    "\n",
    "for window_size in window_sizes:\n",
    "    for embedding_size in embedding_sizes:\n",
    "        model_name = f'Model_W{window_size}_E{embedding_size}'\n",
    "\n",
    "        # Preprocess books\n",
    "        sentences = preprocess_books(books)\n",
    "\n",
    "        # Train Word2Vec model\n",
    "        model = Word2Vec(sentences, vector_size = embedding_size, window = window_size, min_count = 1, workers = 4)\n",
    "\n",
    "        # Save details to CSV\n",
    "        save_data(analysis_dic, model_name, model.wv, model_evaluator(model.wv, dataset))\n",
    "\n",
    "        # Convert dictionary to DataFrame:\n",
    "        analysis_df = pd.DataFrame.from_dict(analysis_dic, orient=\"index\")\n",
    "        # Save the DataFrame to a CSV file:\n",
    "        analysis_df.to_csv('analysis.csv', index=False, header=False)"
   ]
  }
 ],
 "metadata": {
  "kernelspec": {
   "display_name": "Python 3 (ipykernel)",
   "language": "python",
   "name": "python3"
  },
  "language_info": {
   "codemirror_mode": {
    "name": "ipython",
    "version": 3
   },
   "file_extension": ".py",
   "mimetype": "text/x-python",
   "name": "python",
   "nbconvert_exporter": "python",
   "pygments_lexer": "ipython3",
   "version": "3.11.5"
  }
 },
 "nbformat": 4,
 "nbformat_minor": 5
}
