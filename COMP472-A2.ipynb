{
 "cells": [
  {
   "cell_type": "markdown",
   "id": "khcvHr4JF42g",
   "metadata": {
    "id": "khcvHr4JF42g"
   },
   "source": [
    "# Import necessary libraries/modules"
   ]
  },
  {
   "cell_type": "code",
   "execution_count": 1,
   "id": "3bb4c3f4",
   "metadata": {
    "ExecuteTime": {
     "end_time": "2023-12-02T15:55:41.110757Z",
     "start_time": "2023-12-02T15:55:41.088442Z"
    },
    "colab": {
     "base_uri": "https://localhost:8080/"
    },
    "id": "3bb4c3f4",
    "outputId": "6a0e7b9f-025b-431b-99b0-1c7fe78395ce"
   },
   "outputs": [
    {
     "name": "stderr",
     "output_type": "stream",
     "text": [
      "[nltk_data] Downloading package punkt to /Users/lcsanchez/nltk_data...\n",
      "[nltk_data]   Package punkt is already up-to-date!\n"
     ]
    },
    {
     "data": {
      "text/plain": [
       "True"
      ]
     },
     "execution_count": 1,
     "metadata": {},
     "output_type": "execute_result"
    }
   ],
   "source": [
    "# Import necessary libraries/functions/modules\n",
    "import nltk\n",
    "import pandas as pd\n",
    "import gensim.downloader\n",
    "import matplotlib.pyplot as plt\n",
    "from gensim.models import Word2Vec\n",
    "from nltk.tokenize import word_tokenize, sent_tokenize\n",
    "nltk.download('punkt')  # Download NLTK resources (if not done previously)"
   ]
  },
  {
   "cell_type": "markdown",
   "id": "df2c7bf5",
   "metadata": {
    "id": "df2c7bf5"
   },
   "source": [
    "# Functions"
   ]
  },
  {
   "cell_type": "code",
   "execution_count": 2,
   "id": "924bf632",
   "metadata": {
    "id": "924bf632"
   },
   "outputs": [],
   "source": [
    "# Function used to evaluate the model:\n",
    "def model_evaluator(model, dataset):\n",
    "    # Prepare the output data\n",
    "    output_data = []\n",
    "\n",
    "    # Iterate through each row in the dataset\n",
    "    for index, row in dataset.iterrows():\n",
    "        # Extract the question and answer words from the current row\n",
    "        question_word = row['question']\n",
    "        answer_word = row['answer']\n",
    "\n",
    "        # Generate a list of guess words from the current row. This means that\n",
    "        # for each row, it takes the values from the columns labeled \"0\", \"1\",\n",
    "        # \"2\", and \"3\" as the guess words\n",
    "        guess_words = [row[str(i)] for i in range(4)]\n",
    "\n",
    "        # Check if the question word is in the model\n",
    "        if question_word in model:\n",
    "            # Initialize a list to store similarities between question and guess words\n",
    "            similarities = []\n",
    "\n",
    "            # Loop through each guess word\n",
    "            for guess_word in guess_words:\n",
    "                # Check if the guess word is in the model\n",
    "                if guess_word in model:\n",
    "                    # Calculate the similarity between question and guess word using the similarity method from Gensim\n",
    "                    similarity = model.similarity(question_word, guess_word)\n",
    "                    # Store the guess word and its similarity score\n",
    "                    similarities.append((guess_word, similarity))\n",
    "\n",
    "            # Determine the best guess based on the highest similarity score\n",
    "            if similarities:\n",
    "                best_guess, _ = max(similarities, key=lambda x: x[1])\n",
    "                # Label as \"correct\" if the best guess matches the answer word\n",
    "                label = 'correct' if best_guess == answer_word else 'wrong'\n",
    "            else:\n",
    "                # If no valid guesses, set best guess to None and label as \"guess\"\n",
    "                best_guess = None\n",
    "                label = 'guess'\n",
    "        else:\n",
    "            # If question word is not in the model, no guess can be made\n",
    "            best_guess = None\n",
    "            label = 'guess'\n",
    "\n",
    "        # Append the results to the output data\n",
    "        output_data.append([question_word, answer_word, best_guess, label])\n",
    "    return output_data"
   ]
  },
  {
   "cell_type": "code",
   "execution_count": 3,
   "id": "ac4048a7",
   "metadata": {
    "id": "ac4048a7"
   },
   "outputs": [],
   "source": [
    "# Function used to transform the data into a DataFrame and CSV file:\n",
    "def output_df(output_data, model_name):\n",
    "    # Convert the output data to a DataFrame and save the output to a CSV file\n",
    "    output_df = pd.DataFrame(output_data, columns=['question-word', 'answer-word', 'guess-word', 'label'])\n",
    "    output_df.to_csv(model_name + \"-details.csv\", index=False)\n",
    "    return output_df"
   ]
  },
  {
   "cell_type": "code",
   "execution_count": 4,
   "id": "21a3f2c4",
   "metadata": {
    "id": "21a3f2c4"
   },
   "outputs": [],
   "source": [
    "# Function used to compute the metrics:\n",
    "def compute_accuracy(output_df):\n",
    "    # 1. Count the number of correct (C) and non-guess labels (V)\n",
    "    C = (output_df['label'] == 'correct').sum()\n",
    "    V = (output_df['label'] != 'guess').sum()\n",
    "\n",
    "    # 2. Calculate the accuracy\n",
    "    if V:\n",
    "        accuracy = C / V\n",
    "    else:\n",
    "        accuracy = 0\n",
    "    return C, V, accuracy"
   ]
  },
  {
   "cell_type": "code",
   "execution_count": 5,
   "id": "096cfdc6",
   "metadata": {
    "id": "096cfdc6"
   },
   "outputs": [],
   "source": [
    "# Function used to save all the details of several models in a dictionary:\n",
    "def save_data(analysis_dic, model_name, model, output_data):\n",
    "    C, V, accuracy = compute_accuracy(output_df(output_data, model_name))\n",
    "    new_entry = {\n",
    "        'model_name': model_name,\n",
    "        'vocabulary_size': len(model.key_to_index),\n",
    "        'correct_labels': C,\n",
    "        'answered_questions': V,\n",
    "        'accuracy': accuracy\n",
    "    }\n",
    "    analysis_dic[model_name] = new_entry"
   ]
  },
  {
   "cell_type": "code",
   "execution_count": 6,
   "id": "2caccdba",
   "metadata": {
    "id": "2caccdba"
   },
   "outputs": [],
   "source": [
    "# Preprocess function to tokenize and split sentences:\n",
    "def preprocess_books(books):\n",
    "    sentences = []\n",
    "    for book in books:\n",
    "        with open(book, 'r', encoding='utf-8') as file:\n",
    "            text = file.read()\n",
    "            # Tokenize into sentence\n",
    "            # .extend removes duplicates from the vocabulary list\n",
    "            sentences.extend(sent_tokenize(text))\n",
    "    return [word_tokenize(sentence.lower()) for sentence in sentences]"
   ]
  },
  {
   "cell_type": "markdown",
   "id": "c450cf90",
   "metadata": {
    "id": "c450cf90"
   },
   "source": [
    "# Tasks"
   ]
  },
  {
   "cell_type": "markdown",
   "id": "UoC0dg1cFjqw",
   "metadata": {
    "id": "UoC0dg1cFjqw"
   },
   "source": [
    "## Task 1"
   ]
  },
  {
   "cell_type": "code",
   "execution_count": 7,
   "id": "d3185f47",
   "metadata": {
    "id": "d3185f47"
   },
   "outputs": [
    {
     "ename": "FileNotFoundError",
     "evalue": "[Errno 2] No such file or directory: 'A2-Dataset/synonym.csv'",
     "output_type": "error",
     "traceback": [
      "\u001b[0;31m---------------------------------------------------------------------------\u001b[0m",
      "\u001b[0;31mFileNotFoundError\u001b[0m                         Traceback (most recent call last)",
      "Cell \u001b[0;32mIn[7], line 6\u001b[0m\n\u001b[1;32m      3\u001b[0m model \u001b[38;5;241m=\u001b[39m gensim\u001b[38;5;241m.\u001b[39mdownloader\u001b[38;5;241m.\u001b[39mload(model_name)\n\u001b[1;32m      5\u001b[0m \u001b[38;5;66;03m# Load the Synonym Test dataset:\u001b[39;00m\n\u001b[0;32m----> 6\u001b[0m dataset \u001b[38;5;241m=\u001b[39m pd\u001b[38;5;241m.\u001b[39mread_csv(\u001b[38;5;124m\"\u001b[39m\u001b[38;5;124mA2-Dataset/synonym.csv\u001b[39m\u001b[38;5;124m\"\u001b[39m)\n\u001b[1;32m      8\u001b[0m \u001b[38;5;66;03m# Save the data:\u001b[39;00m\n\u001b[1;32m      9\u001b[0m analysis_dic \u001b[38;5;241m=\u001b[39m {}\n",
      "File \u001b[0;32m~/Applications/anaconda3/lib/python3.11/site-packages/pandas/io/parsers/readers.py:912\u001b[0m, in \u001b[0;36mread_csv\u001b[0;34m(filepath_or_buffer, sep, delimiter, header, names, index_col, usecols, dtype, engine, converters, true_values, false_values, skipinitialspace, skiprows, skipfooter, nrows, na_values, keep_default_na, na_filter, verbose, skip_blank_lines, parse_dates, infer_datetime_format, keep_date_col, date_parser, date_format, dayfirst, cache_dates, iterator, chunksize, compression, thousands, decimal, lineterminator, quotechar, quoting, doublequote, escapechar, comment, encoding, encoding_errors, dialect, on_bad_lines, delim_whitespace, low_memory, memory_map, float_precision, storage_options, dtype_backend)\u001b[0m\n\u001b[1;32m    899\u001b[0m kwds_defaults \u001b[38;5;241m=\u001b[39m _refine_defaults_read(\n\u001b[1;32m    900\u001b[0m     dialect,\n\u001b[1;32m    901\u001b[0m     delimiter,\n\u001b[0;32m   (...)\u001b[0m\n\u001b[1;32m    908\u001b[0m     dtype_backend\u001b[38;5;241m=\u001b[39mdtype_backend,\n\u001b[1;32m    909\u001b[0m )\n\u001b[1;32m    910\u001b[0m kwds\u001b[38;5;241m.\u001b[39mupdate(kwds_defaults)\n\u001b[0;32m--> 912\u001b[0m \u001b[38;5;28;01mreturn\u001b[39;00m _read(filepath_or_buffer, kwds)\n",
      "File \u001b[0;32m~/Applications/anaconda3/lib/python3.11/site-packages/pandas/io/parsers/readers.py:577\u001b[0m, in \u001b[0;36m_read\u001b[0;34m(filepath_or_buffer, kwds)\u001b[0m\n\u001b[1;32m    574\u001b[0m _validate_names(kwds\u001b[38;5;241m.\u001b[39mget(\u001b[38;5;124m\"\u001b[39m\u001b[38;5;124mnames\u001b[39m\u001b[38;5;124m\"\u001b[39m, \u001b[38;5;28;01mNone\u001b[39;00m))\n\u001b[1;32m    576\u001b[0m \u001b[38;5;66;03m# Create the parser.\u001b[39;00m\n\u001b[0;32m--> 577\u001b[0m parser \u001b[38;5;241m=\u001b[39m TextFileReader(filepath_or_buffer, \u001b[38;5;241m*\u001b[39m\u001b[38;5;241m*\u001b[39mkwds)\n\u001b[1;32m    579\u001b[0m \u001b[38;5;28;01mif\u001b[39;00m chunksize \u001b[38;5;129;01mor\u001b[39;00m iterator:\n\u001b[1;32m    580\u001b[0m     \u001b[38;5;28;01mreturn\u001b[39;00m parser\n",
      "File \u001b[0;32m~/Applications/anaconda3/lib/python3.11/site-packages/pandas/io/parsers/readers.py:1407\u001b[0m, in \u001b[0;36mTextFileReader.__init__\u001b[0;34m(self, f, engine, **kwds)\u001b[0m\n\u001b[1;32m   1404\u001b[0m     \u001b[38;5;28mself\u001b[39m\u001b[38;5;241m.\u001b[39moptions[\u001b[38;5;124m\"\u001b[39m\u001b[38;5;124mhas_index_names\u001b[39m\u001b[38;5;124m\"\u001b[39m] \u001b[38;5;241m=\u001b[39m kwds[\u001b[38;5;124m\"\u001b[39m\u001b[38;5;124mhas_index_names\u001b[39m\u001b[38;5;124m\"\u001b[39m]\n\u001b[1;32m   1406\u001b[0m \u001b[38;5;28mself\u001b[39m\u001b[38;5;241m.\u001b[39mhandles: IOHandles \u001b[38;5;241m|\u001b[39m \u001b[38;5;28;01mNone\u001b[39;00m \u001b[38;5;241m=\u001b[39m \u001b[38;5;28;01mNone\u001b[39;00m\n\u001b[0;32m-> 1407\u001b[0m \u001b[38;5;28mself\u001b[39m\u001b[38;5;241m.\u001b[39m_engine \u001b[38;5;241m=\u001b[39m \u001b[38;5;28mself\u001b[39m\u001b[38;5;241m.\u001b[39m_make_engine(f, \u001b[38;5;28mself\u001b[39m\u001b[38;5;241m.\u001b[39mengine)\n",
      "File \u001b[0;32m~/Applications/anaconda3/lib/python3.11/site-packages/pandas/io/parsers/readers.py:1661\u001b[0m, in \u001b[0;36mTextFileReader._make_engine\u001b[0;34m(self, f, engine)\u001b[0m\n\u001b[1;32m   1659\u001b[0m     \u001b[38;5;28;01mif\u001b[39;00m \u001b[38;5;124m\"\u001b[39m\u001b[38;5;124mb\u001b[39m\u001b[38;5;124m\"\u001b[39m \u001b[38;5;129;01mnot\u001b[39;00m \u001b[38;5;129;01min\u001b[39;00m mode:\n\u001b[1;32m   1660\u001b[0m         mode \u001b[38;5;241m+\u001b[39m\u001b[38;5;241m=\u001b[39m \u001b[38;5;124m\"\u001b[39m\u001b[38;5;124mb\u001b[39m\u001b[38;5;124m\"\u001b[39m\n\u001b[0;32m-> 1661\u001b[0m \u001b[38;5;28mself\u001b[39m\u001b[38;5;241m.\u001b[39mhandles \u001b[38;5;241m=\u001b[39m get_handle(\n\u001b[1;32m   1662\u001b[0m     f,\n\u001b[1;32m   1663\u001b[0m     mode,\n\u001b[1;32m   1664\u001b[0m     encoding\u001b[38;5;241m=\u001b[39m\u001b[38;5;28mself\u001b[39m\u001b[38;5;241m.\u001b[39moptions\u001b[38;5;241m.\u001b[39mget(\u001b[38;5;124m\"\u001b[39m\u001b[38;5;124mencoding\u001b[39m\u001b[38;5;124m\"\u001b[39m, \u001b[38;5;28;01mNone\u001b[39;00m),\n\u001b[1;32m   1665\u001b[0m     compression\u001b[38;5;241m=\u001b[39m\u001b[38;5;28mself\u001b[39m\u001b[38;5;241m.\u001b[39moptions\u001b[38;5;241m.\u001b[39mget(\u001b[38;5;124m\"\u001b[39m\u001b[38;5;124mcompression\u001b[39m\u001b[38;5;124m\"\u001b[39m, \u001b[38;5;28;01mNone\u001b[39;00m),\n\u001b[1;32m   1666\u001b[0m     memory_map\u001b[38;5;241m=\u001b[39m\u001b[38;5;28mself\u001b[39m\u001b[38;5;241m.\u001b[39moptions\u001b[38;5;241m.\u001b[39mget(\u001b[38;5;124m\"\u001b[39m\u001b[38;5;124mmemory_map\u001b[39m\u001b[38;5;124m\"\u001b[39m, \u001b[38;5;28;01mFalse\u001b[39;00m),\n\u001b[1;32m   1667\u001b[0m     is_text\u001b[38;5;241m=\u001b[39mis_text,\n\u001b[1;32m   1668\u001b[0m     errors\u001b[38;5;241m=\u001b[39m\u001b[38;5;28mself\u001b[39m\u001b[38;5;241m.\u001b[39moptions\u001b[38;5;241m.\u001b[39mget(\u001b[38;5;124m\"\u001b[39m\u001b[38;5;124mencoding_errors\u001b[39m\u001b[38;5;124m\"\u001b[39m, \u001b[38;5;124m\"\u001b[39m\u001b[38;5;124mstrict\u001b[39m\u001b[38;5;124m\"\u001b[39m),\n\u001b[1;32m   1669\u001b[0m     storage_options\u001b[38;5;241m=\u001b[39m\u001b[38;5;28mself\u001b[39m\u001b[38;5;241m.\u001b[39moptions\u001b[38;5;241m.\u001b[39mget(\u001b[38;5;124m\"\u001b[39m\u001b[38;5;124mstorage_options\u001b[39m\u001b[38;5;124m\"\u001b[39m, \u001b[38;5;28;01mNone\u001b[39;00m),\n\u001b[1;32m   1670\u001b[0m )\n\u001b[1;32m   1671\u001b[0m \u001b[38;5;28;01massert\u001b[39;00m \u001b[38;5;28mself\u001b[39m\u001b[38;5;241m.\u001b[39mhandles \u001b[38;5;129;01mis\u001b[39;00m \u001b[38;5;129;01mnot\u001b[39;00m \u001b[38;5;28;01mNone\u001b[39;00m\n\u001b[1;32m   1672\u001b[0m f \u001b[38;5;241m=\u001b[39m \u001b[38;5;28mself\u001b[39m\u001b[38;5;241m.\u001b[39mhandles\u001b[38;5;241m.\u001b[39mhandle\n",
      "File \u001b[0;32m~/Applications/anaconda3/lib/python3.11/site-packages/pandas/io/common.py:859\u001b[0m, in \u001b[0;36mget_handle\u001b[0;34m(path_or_buf, mode, encoding, compression, memory_map, is_text, errors, storage_options)\u001b[0m\n\u001b[1;32m    854\u001b[0m \u001b[38;5;28;01melif\u001b[39;00m \u001b[38;5;28misinstance\u001b[39m(handle, \u001b[38;5;28mstr\u001b[39m):\n\u001b[1;32m    855\u001b[0m     \u001b[38;5;66;03m# Check whether the filename is to be opened in binary mode.\u001b[39;00m\n\u001b[1;32m    856\u001b[0m     \u001b[38;5;66;03m# Binary mode does not support 'encoding' and 'newline'.\u001b[39;00m\n\u001b[1;32m    857\u001b[0m     \u001b[38;5;28;01mif\u001b[39;00m ioargs\u001b[38;5;241m.\u001b[39mencoding \u001b[38;5;129;01mand\u001b[39;00m \u001b[38;5;124m\"\u001b[39m\u001b[38;5;124mb\u001b[39m\u001b[38;5;124m\"\u001b[39m \u001b[38;5;129;01mnot\u001b[39;00m \u001b[38;5;129;01min\u001b[39;00m ioargs\u001b[38;5;241m.\u001b[39mmode:\n\u001b[1;32m    858\u001b[0m         \u001b[38;5;66;03m# Encoding\u001b[39;00m\n\u001b[0;32m--> 859\u001b[0m         handle \u001b[38;5;241m=\u001b[39m \u001b[38;5;28mopen\u001b[39m(\n\u001b[1;32m    860\u001b[0m             handle,\n\u001b[1;32m    861\u001b[0m             ioargs\u001b[38;5;241m.\u001b[39mmode,\n\u001b[1;32m    862\u001b[0m             encoding\u001b[38;5;241m=\u001b[39mioargs\u001b[38;5;241m.\u001b[39mencoding,\n\u001b[1;32m    863\u001b[0m             errors\u001b[38;5;241m=\u001b[39merrors,\n\u001b[1;32m    864\u001b[0m             newline\u001b[38;5;241m=\u001b[39m\u001b[38;5;124m\"\u001b[39m\u001b[38;5;124m\"\u001b[39m,\n\u001b[1;32m    865\u001b[0m         )\n\u001b[1;32m    866\u001b[0m     \u001b[38;5;28;01melse\u001b[39;00m:\n\u001b[1;32m    867\u001b[0m         \u001b[38;5;66;03m# Binary mode\u001b[39;00m\n\u001b[1;32m    868\u001b[0m         handle \u001b[38;5;241m=\u001b[39m \u001b[38;5;28mopen\u001b[39m(handle, ioargs\u001b[38;5;241m.\u001b[39mmode)\n",
      "\u001b[0;31mFileNotFoundError\u001b[0m: [Errno 2] No such file or directory: 'A2-Dataset/synonym.csv'"
     ]
    }
   ],
   "source": [
    "# Load the pretrained embedding model:\n",
    "model_name = \"word2vec-google-news-300\"\n",
    "model = gensim.downloader.load(model_name)\n",
    "\n",
    "# Load the Synonym Test dataset:\n",
    "dataset = pd.read_csv(\"A2-Dataset/synonym.csv\")\n",
    "\n",
    "# Save the data:\n",
    "analysis_dic = {}\n",
    "save_data(analysis_dic, model_name, model, model_evaluator(model, dataset))\n",
    "\n",
    "# Convert dictionary to DataFrame:\n",
    "analysis_df = pd.DataFrame.from_dict(analysis_dic, orient=\"index\")\n",
    "\n",
    "# Save the DataFrame to a CSV file:\n",
    "analysis_df.to_csv('analysis.csv', index=False, header=False)"
   ]
  },
  {
   "cell_type": "markdown",
   "id": "WY3XAv0hFf-Z",
   "metadata": {
    "id": "WY3XAv0hFf-Z"
   },
   "source": [
    "## Task 2"
   ]
  },
  {
   "cell_type": "code",
   "execution_count": null,
   "id": "2d2a8cb3",
   "metadata": {
    "id": "2d2a8cb3"
   },
   "outputs": [],
   "source": [
    "# Load the pretrained embedding models:\n",
    "model_name1 = \"glove-wiki-gigaword-300\"\n",
    "model_name2 = \"fasttext-wiki-news-subwords-300\"\n",
    "model_name3 = \"glove-twitter-100\"\n",
    "model_name4 = \"glove-twitter-200\"\n",
    "\n",
    "model1 = gensim.downloader.load(model_name1)\n",
    "model2 = gensim.downloader.load(model_name2)\n",
    "model3 = gensim.downloader.load(model_name3)\n",
    "model4 = gensim.downloader.load(model_name4)\n",
    "\n",
    "# Save the data:\n",
    "save_data(analysis_dic, model_name1, model1, model_evaluator(model1, dataset))\n",
    "save_data(analysis_dic, model_name2, model2, model_evaluator(model2, dataset))\n",
    "save_data(analysis_dic, model_name3, model3, model_evaluator(model3, dataset))\n",
    "save_data(analysis_dic, model_name4, model4, model_evaluator(model4, dataset))\n",
    "\n",
    "# Convert dictionary to DataFrame:\n",
    "analysis_df = pd.DataFrame.from_dict(analysis_dic, orient=\"index\")\n",
    "\n",
    "# Save the DataFrame to a CSV file:\n",
    "analysis_df.to_csv('analysis.csv', index=False, header=False)"
   ]
  },
  {
   "cell_type": "markdown",
   "id": "F4epcrUSFwZI",
   "metadata": {
    "id": "F4epcrUSFwZI"
   },
   "source": [
    "## Task 3"
   ]
  },
  {
   "cell_type": "code",
   "execution_count": null,
   "id": "dfe17b3e",
   "metadata": {
    "id": "dfe17b3e"
   },
   "outputs": [],
   "source": [
    "# Declare variables that will be used in the task, such as the books, the window\n",
    "# sizes or the embedding sizes:\n",
    "books = ['Books/agnes_grey.txt', 'Books/frankestein.txt', 'Books/jane_eyre.txt',\n",
    "         'Books/little_women.txt', 'Books/mrs_dalloway.txt', 'Books/pride_and_prejudice.txt',\n",
    "         'Books/regiment_of_women.txt', 'Books/wuthering_heights.txt']\n",
    "window_sizes = [100, 200]\n",
    "embedding_sizes = [100, 300]\n",
    "\n",
    "for window_size in window_sizes:\n",
    "    for embedding_size in embedding_sizes:\n",
    "        model_name = f'Model_W{window_size}_E{embedding_size}'\n",
    "\n",
    "        # Preprocess books:\n",
    "        sentences = preprocess_books(books)\n",
    "\n",
    "        # Train Word2Vec model:\n",
    "        model = Word2Vec(sentences, vector_size = embedding_size, window = window_size, min_count = 1, workers = 4)\n",
    "\n",
    "        # Save details to CSV:\n",
    "        save_data(analysis_dic, model_name, model.wv, model_evaluator(model.wv, dataset))\n",
    "\n",
    "        # Convert dictionary to DataFrame:\n",
    "        analysis_df = pd.DataFrame.from_dict(analysis_dic, orient=\"index\")\n",
    "\n",
    "        # Save the DataFrame to a CSV file:\n",
    "        analysis_df.to_csv('analysis.csv', index=False, header=False)"
   ]
  },
  {
   "cell_type": "markdown",
   "id": "2FccYRI_QAmZ",
   "metadata": {
    "id": "2FccYRI_QAmZ"
   },
   "source": [
    "## Comparison of the performance of models"
   ]
  },
  {
   "cell_type": "code",
   "execution_count": 25,
   "id": "064d103a",
   "metadata": {
    "colab": {
     "base_uri": "https://localhost:8080/",
     "height": 607
    },
    "id": "064d103a",
    "outputId": "88a39a45-7656-48a7-9520-e5f1753c57c4"
   },
   "outputs": [
    {
     "data": {
      "image/png": "[encoded data removed]",
      "text/plain": [
       "<Figure size 1000x600 with 1 Axes>"
      ]
     },
     "metadata": {},
     "output_type": "display_data"
    }
   ],
   "source": [
    "# Load analysis results from the CSV file:\n",
    "analysis_df = pd.read_csv('/Users/lcsanchez/Documents/COMP472/COMP472-A2/analysis.csv', header=None, names=['model_name', 'vocabulary_size', 'correct_labels', 'answered_questions', 'accuracy'])\n",
    "\n",
    "# Sort the DataFrame by accuracy in descending order:\n",
    "analysis_df = analysis_df.sort_values(by='accuracy', ascending=False)\n",
    "\n",
    "# Plot the bar graph:\n",
    "plt.figure(figsize=(10, 6))\n",
    "plt.bar(analysis_df['model_name'], analysis_df['accuracy'], color=['blue', 'orange', 'green', 'red', 'purple', 'brown', 'pink', 'gray'])\n",
    "plt.xlabel('Model')\n",
    "plt.ylabel('Accuracy')\n",
    "plt.title('Model Comparison in terms of accuracy')\n",
    "plt.ylim(0, 1)  # Set y-axis limit to better visualize differences\n",
    "\n",
    "# Adding a solid red horizontal line at y=0.25 to mark the random baseline\n",
    "plt.axhline(y=0.25, color='red', linestyle='-')\n",
    "\n",
    "plt.xticks(rotation=45, ha='right')  # Rotate x-axis labels for better readability\n",
    "plt.tight_layout()\n",
    "\n",
    "# Save the plot as an image (optional):\n",
    "plt.savefig('model_comparison_accuracy.png')\n",
    "\n",
    "# Display the plot:\n",
    "plt.show()"
   ]
  },
  {
   "cell_type": "markdown",
   "id": "ef41c536a5aa19f6",
   "metadata": {},
   "source": [
    "### Comparison with the baseline model\n",
    "The red line is the random baseline. It is the expected accuracy from a model that only has the ability to randomly choose on of the given possible answers. In our case since we are operating one a bag of words with 4 synonym possibilities (only one of which is correct), the random baseline sits at 25%. It is the baseline to compare our models too because we want to guarantee our results are better than simply guessing and, more importantly, quantify how better they are. So we can see that clearly the bottom 3 models are barely better than guessing and cannot be considered to have learned from the dataset.\n"
   ]
  },
  {
   "cell_type": "code",
   "execution_count": 11,
   "id": "9cd5fc58",
   "metadata": {},
   "outputs": [],
   "source": [
    "# Read the CSV file into a DataFrame without column names\n",
    "df = pd.read_csv('/Users/lcsanchez/Documents/COMP472/COMP472-A2/analysis.csv', header=None)"
   ]
  },
  {
   "cell_type": "code",
   "execution_count": 22,
   "id": "e3393b19",
   "metadata": {},
   "outputs": [],
   "source": [
    "analysis_df['embedding_size'] = [300,300,300,100,200,100,300,100,300]"
   ]
  },
  {
   "cell_type": "code",
   "execution_count": 18,
   "id": "e02ba030",
   "metadata": {},
   "outputs": [
    {
     "data": {
      "text/html": [
       "<div>\n",
       "<style scoped>\n",
       "    .dataframe tbody tr th:only-of-type {\n",
       "        vertical-align: middle;\n",
       "    }\n",
       "\n",
       "    .dataframe tbody tr th {\n",
       "        vertical-align: top;\n",
       "    }\n",
       "\n",
       "    .dataframe thead th {\n",
       "        text-align: right;\n",
       "    }\n",
       "</style>\n",
       "<table border=\"1\" class=\"dataframe\">\n",
       "  <thead>\n",
       "    <tr style=\"text-align: right;\">\n",
       "      <th></th>\n",
       "      <th>Model</th>\n",
       "      <th>Vocabulary Size</th>\n",
       "      <th>Correct Predictions</th>\n",
       "      <th>Total Instances</th>\n",
       "      <th>Accuracy</th>\n",
       "      <th>Embedding Size</th>\n",
       "    </tr>\n",
       "  </thead>\n",
       "  <tbody>\n",
       "    <tr>\n",
       "      <th>3</th>\n",
       "      <td>glove-twitter-100</td>\n",
       "      <td>1193514</td>\n",
       "      <td>39</td>\n",
       "      <td>78</td>\n",
       "      <td>0.500000</td>\n",
       "      <td>100</td>\n",
       "    </tr>\n",
       "    <tr>\n",
       "      <th>5</th>\n",
       "      <td>Model_W100_E100</td>\n",
       "      <td>32604</td>\n",
       "      <td>21</td>\n",
       "      <td>65</td>\n",
       "      <td>0.323077</td>\n",
       "      <td>100</td>\n",
       "    </tr>\n",
       "    <tr>\n",
       "      <th>7</th>\n",
       "      <td>Model_W200_E100</td>\n",
       "      <td>32604</td>\n",
       "      <td>18</td>\n",
       "      <td>65</td>\n",
       "      <td>0.276923</td>\n",
       "      <td>100</td>\n",
       "    </tr>\n",
       "    <tr>\n",
       "      <th>4</th>\n",
       "      <td>glove-twitter-200</td>\n",
       "      <td>1193514</td>\n",
       "      <td>44</td>\n",
       "      <td>78</td>\n",
       "      <td>0.564103</td>\n",
       "      <td>200</td>\n",
       "    </tr>\n",
       "    <tr>\n",
       "      <th>0</th>\n",
       "      <td>word2vec-google-news-300</td>\n",
       "      <td>3000000</td>\n",
       "      <td>70</td>\n",
       "      <td>79</td>\n",
       "      <td>0.886076</td>\n",
       "      <td>300</td>\n",
       "    </tr>\n",
       "    <tr>\n",
       "      <th>1</th>\n",
       "      <td>glove-wiki-gigaword-300</td>\n",
       "      <td>400000</td>\n",
       "      <td>71</td>\n",
       "      <td>80</td>\n",
       "      <td>0.887500</td>\n",
       "      <td>300</td>\n",
       "    </tr>\n",
       "    <tr>\n",
       "      <th>2</th>\n",
       "      <td>fasttext-wiki-news-subwords-300</td>\n",
       "      <td>999999</td>\n",
       "      <td>74</td>\n",
       "      <td>80</td>\n",
       "      <td>0.925000</td>\n",
       "      <td>300</td>\n",
       "    </tr>\n",
       "    <tr>\n",
       "      <th>6</th>\n",
       "      <td>Model_W100_E300</td>\n",
       "      <td>32604</td>\n",
       "      <td>18</td>\n",
       "      <td>65</td>\n",
       "      <td>0.276923</td>\n",
       "      <td>300</td>\n",
       "    </tr>\n",
       "    <tr>\n",
       "      <th>8</th>\n",
       "      <td>Model_W200_E300</td>\n",
       "      <td>32604</td>\n",
       "      <td>17</td>\n",
       "      <td>65</td>\n",
       "      <td>0.261538</td>\n",
       "      <td>300</td>\n",
       "    </tr>\n",
       "  </tbody>\n",
       "</table>\n",
       "</div>"
      ],
      "text/plain": [
       "                             Model  Vocabulary Size  Correct Predictions  \\\n",
       "3                glove-twitter-100          1193514                   39   \n",
       "5                  Model_W100_E100            32604                   21   \n",
       "7                  Model_W200_E100            32604                   18   \n",
       "4                glove-twitter-200          1193514                   44   \n",
       "0         word2vec-google-news-300          3000000                   70   \n",
       "1          glove-wiki-gigaword-300           400000                   71   \n",
       "2  fasttext-wiki-news-subwords-300           999999                   74   \n",
       "6                  Model_W100_E300            32604                   18   \n",
       "8                  Model_W200_E300            32604                   17   \n",
       "\n",
       "   Total Instances  Accuracy  Embedding Size  \n",
       "3               78  0.500000             100  \n",
       "5               65  0.323077             100  \n",
       "7               65  0.276923             100  \n",
       "4               78  0.564103             200  \n",
       "0               79  0.886076             300  \n",
       "1               80  0.887500             300  \n",
       "2               80  0.925000             300  \n",
       "6               65  0.276923             300  \n",
       "8               65  0.261538             300  "
      ]
     },
     "execution_count": 18,
     "metadata": {},
     "output_type": "execute_result"
    }
   ],
   "source": [
    "analysis_df.columns = ['Model', 'Vocabulary Size', 'Correct Predictions', 'Total Instances', 'Accuracy', 'Embedding Size']\n",
    "analysis_df = analysis_df.sort_values(by='Accuracy')\n",
    "analysis_df"
   ]
  },
  {
   "cell_type": "markdown",
   "id": "31e105f9",
   "metadata": {},
   "source": [
    "### Comparison of models with pre-defined corpus\n",
    "* **Effect of Dataset Size and Embedding Dimension.** Larger datasets (with more vocabulary) can support higher-dimensional embeddings as they provide more training data to inform the model. We can see that the \"fasttext-wiki-news-subwords-300\", \"glove-wiki-gigaword-300\" and \"word2vec-google-news-300\" have the better accuracy and all of them have an embedding size of 300. On the other hand, they models fed with smaller datasets and with that embedding size (\"Model_W200_E300\" and \"Model_W100_E300\") perform worse.\n",
    "\n",
    "* **Embedding Size and Accuracy**. There isn't a clear correlation between embedding size and accuracy, as seen by the varying accuracies for models with the same embedding size.\n",
    "\n",
    "* **Impact of Embedding Size on models with the same corpus**. \"glove-twitter-100\" has an embedding size of 100, while \"glove-twitter-200\" has an embedding size of 200. Despite the increase in embedding size, \"glove-twitter-200\" exhibits a higher accuracy (56.41%) compared to \"glove-twitter-100\" (50%). This suggests that a larger embedding size in this case may contribute to better model performance.\n",
    "\n",
    "### Comparison of models with customized corpus\n",
    "* **Vocabulary size and embedding size**. The vocabulary size is consistent across all \"Model_W*\" entries, indicating that this aspect is independent of embedding size. It remains constant at 32,604.\n",
    "\n",
    "* **Corpus Size and Model Performance**.The models with lower accuracy are the ones with corpus generated by us, as they are the ones with a smaller corpus (we took 8 books and checked that the results improved with respect to taking just 5 books, so the larger the vocabulary, the better model we will generally get).\n",
    "\n",
    "* **Window Size Influence** .In our created models, we observe that those with a smaller window size (W=100) exhibit slightly better performance compared to those with a larger window size (W=200). This observation suggests that, in the context of a small vocabulary size, a smaller window size may lead to better model performance."
   ]
  },
  {
   "cell_type": "markdown",
   "id": "c7c47e2f",
   "metadata": {},
   "source": [
    "### Comparison of Models with Respect to Human Performance\n",
    "\n",
    "**Human Performance:**\n",
    "- *Average Accuracy per Question:* **88.57%**\n",
    "- *Average Accuracy per Annotator:* **88.28%**\n",
    "\n",
    "#### Model Performance Observations\n",
    "\n",
    "- Our best-performing model, **\"fasttext-wiki-news-subwords-300,\"** achieved an impressive accuracy of **92.50%**, comparable to the average human accuracy.\n",
    "- Models **\"word2vec-google-news-300\"** and **\"glove-wiki-gigaword-300\"** also demonstrated strong performance, achieving accuracies close to human levels.\n",
    "- The \"glove-twitter\" models with smaller embedding sizes (100) performed at **50.00%** and **56.41%**, suggesting potential limitations for the synonyms test compared to other models.\n",
    "\n",
    "#### General Model Conclusions\n",
    "\n",
    "- The models, especially **\"fasttext-wiki-news-subwords-300,\" \"word2vec-google-news-300,\"** and **\"glove-wiki-gigaword-300,\"** exhibit competitive performance compared to human annotators.\n",
    "- The influence of embedding size and pre-trained embeddings is evident in the varying accuracies across different models and corpora.\n",
    "- Further optimization and experimentation with different embeddings may lead to improvements in overall model performance."
   ]
  }
 ],
 "metadata": {
  "colab": {
   "provenance": []
  },
  "kernelspec": {
   "display_name": "Python 3 (ipykernel)",
   "language": "python",
   "name": "python3"
  },
  "language_info": {
   "codemirror_mode": {
    "name": "ipython",
    "version": 3
   },
   "file_extension": ".py",
   "mimetype": "text/x-python",
   "name": "python",
   "nbconvert_exporter": "python",
   "pygments_lexer": "ipython3",
   "version": "3.11.5"
  }
 },
 "nbformat": 4,
 "nbformat_minor": 5
}
