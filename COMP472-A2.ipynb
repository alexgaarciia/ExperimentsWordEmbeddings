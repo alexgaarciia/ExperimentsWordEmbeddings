{
 "cells": [
  {
   "cell_type": "markdown",
   "source": [
    "# Import necessary libraries/modules"
   ],
   "metadata": {
    "id": "khcvHr4JF42g"
   },
   "id": "khcvHr4JF42g"
  },
  {
   "cell_type": "code",
   "execution_count": 4,
   "id": "3bb4c3f4",
   "metadata": {
    "colab": {
     "base_uri": "https://localhost:8080/"
    },
    "id": "3bb4c3f4",
    "outputId": "6a0e7b9f-025b-431b-99b0-1c7fe78395ce"
   },
   "outputs": [
    {
     "output_type": "stream",
     "name": "stderr",
     "text": [
      "[nltk_data] Downloading package punkt to /root/nltk_data...\n",
      "[nltk_data]   Package punkt is already up-to-date!\n"
     ]
    },
    {
     "output_type": "execute_result",
     "data": {
      "text/plain": [
       "True"
      ]
     },
     "metadata": {},
     "execution_count": 4
    }
   ],
   "source": [
    "# Import necessary libraries/functions/modules\n",
    "import nltk\n",
    "import pandas as pd\n",
    "import gensim.downloader\n",
    "import matplotlib.pyplot as plt\n",
    "from gensim.models import Word2Vec\n",
    "from nltk.tokenize import word_tokenize, sent_tokenize\n",
    "nltk.download('punkt')  # Download NLTK resources (if not done previously)"
   ]
  },
  {
   "cell_type": "markdown",
   "id": "df2c7bf5",
   "metadata": {
    "id": "df2c7bf5"
   },
   "source": [
    "# Functions"
   ]
  },
  {
   "cell_type": "code",
   "execution_count": 5,
   "id": "924bf632",
   "metadata": {
    "id": "924bf632"
   },
   "outputs": [],
   "source": [
    "# Function used to evaluate the model:\n",
    "def model_evaluator(model, dataset):\n",
    "    # Prepare the output data\n",
    "    output_data = []\n",
    "\n",
    "    # Iterate through each row in the dataset\n",
    "    for index, row in dataset.iterrows():\n",
    "        # Extract the question and answer words from the current row\n",
    "        question_word = row['question']\n",
    "        answer_word = row['answer']\n",
    "\n",
    "        # Generate a list of guess words from the current row. This means that\n",
    "        # for each row, it takes the values from the columns labeled \"0\", \"1\",\n",
    "        # \"2\", and \"3\" as the guess words\n",
    "        guess_words = [row[str(i)] for i in range(4)]\n",
    "\n",
    "        # Check if the question word is in the model\n",
    "        if question_word in model:\n",
    "            # Initialize a list to store similarities between question and guess words\n",
    "            similarities = []\n",
    "\n",
    "            # Loop through each guess word\n",
    "            for guess_word in guess_words:\n",
    "                # Check if the guess word is in the model\n",
    "                if guess_word in model:\n",
    "                    # Calculate the similarity between question and guess word using the similarity method from Gensim\n",
    "                    similarity = model.similarity(question_word, guess_word)\n",
    "                    # Store the guess word and its similarity score\n",
    "                    similarities.append((guess_word, similarity))\n",
    "\n",
    "            # Determine the best guess based on the highest similarity score\n",
    "            if similarities:\n",
    "                best_guess, _ = max(similarities, key=lambda x: x[1])\n",
    "                # Label as \"correct\" if the best guess matches the answer word\n",
    "                label = 'correct' if best_guess == answer_word else 'wrong'\n",
    "            else:\n",
    "                # If no valid guesses, set best guess to None and label as \"guess\"\n",
    "                best_guess = None\n",
    "                label = 'guess'\n",
    "        else:\n",
    "            # If question word is not in the model, no guess can be made\n",
    "            best_guess = None\n",
    "            label = 'guess'\n",
    "\n",
    "        # Append the results to the output data\n",
    "        output_data.append([question_word, answer_word, best_guess, label])\n",
    "    return output_data"
   ]
  },
  {
   "cell_type": "code",
   "execution_count": 6,
   "id": "ac4048a7",
   "metadata": {
    "id": "ac4048a7"
   },
   "outputs": [],
   "source": [
    "# Function used to transform the data into a DataFrame and CSV file:\n",
    "def output_df(output_data, model_name):\n",
    "    # Convert the output data to a DataFrame and save the output to a CSV file\n",
    "    output_df = pd.DataFrame(output_data, columns=['question-word', 'answer-word', 'guess-word', 'label'])\n",
    "    output_df.to_csv(model_name + \"-details.csv\", index=False)\n",
    "    return output_df"
   ]
  },
  {
   "cell_type": "code",
   "execution_count": 7,
   "id": "21a3f2c4",
   "metadata": {
    "id": "21a3f2c4"
   },
   "outputs": [],
   "source": [
    "# Function used to compute the metrics:\n",
    "def compute_accuracy(output_df):\n",
    "    # 1. Count the number of correct (C) and non-guess labels (V)\n",
    "    C = (output_df['label'] == 'correct').sum()\n",
    "    V = (output_df['label'] != 'guess').sum()\n",
    "\n",
    "    # 2. Calculate the accuracy\n",
    "    if V:\n",
    "        accuracy = C / V\n",
    "    else:\n",
    "        accuracy = 0\n",
    "    return C, V, accuracy"
   ]
  },
  {
   "cell_type": "code",
   "execution_count": 8,
   "id": "096cfdc6",
   "metadata": {
    "id": "096cfdc6"
   },
   "outputs": [],
   "source": [
    "# Function used to save all the details of several models in a dictionary:\n",
    "def save_data(analysis_dic, model_name, model, output_data):\n",
    "    C, V, accuracy = compute_accuracy(output_df(output_data, model_name))\n",
    "    new_entry = {\n",
    "        'model_name': model_name,\n",
    "        'vocabulary_size': len(model.key_to_index),\n",
    "        'correct_labels': C,\n",
    "        'answered_questions': V,\n",
    "        'accuracy': accuracy\n",
    "    }\n",
    "    analysis_dic[model_name] = new_entry"
   ]
  },
  {
   "cell_type": "code",
   "execution_count": 9,
   "id": "2caccdba",
   "metadata": {
    "id": "2caccdba"
   },
   "outputs": [],
   "source": [
    "# Preprocess function to tokenize and split sentences:\n",
    "def preprocess_books(books):\n",
    "    sentences = []\n",
    "    for book in books:\n",
    "        with open(book, 'r', encoding='utf-8') as file:\n",
    "            text = file.read()\n",
    "            # Tokenize into sentence\n",
    "            # .extend removes duplicates from the vocabulary list\n",
    "            sentences.extend(sent_tokenize(text))\n",
    "    return [word_tokenize(sentence.lower()) for sentence in sentences]"
   ]
  },
  {
   "cell_type": "markdown",
   "id": "c450cf90",
   "metadata": {
    "id": "c450cf90"
   },
   "source": [
    "# Tasks"
   ]
  },
  {
   "cell_type": "markdown",
   "source": [
    "## Task 1"
   ],
   "metadata": {
    "id": "UoC0dg1cFjqw"
   },
   "id": "UoC0dg1cFjqw"
  },
  {
   "cell_type": "code",
   "execution_count": 10,
   "id": "d3185f47",
   "metadata": {
    "id": "d3185f47"
   },
   "outputs": [],
   "source": [
    "# Load the pretrained embedding model:\n",
    "model_name = \"word2vec-google-news-300\"\n",
    "model = gensim.downloader.load(model_name)\n",
    "\n",
    "# Load the Synonym Test dataset:\n",
    "dataset = pd.read_csv(\"A2-Dataset/synonym.csv\")\n",
    "\n",
    "# Save the data:\n",
    "analysis_dic = {}\n",
    "save_data(analysis_dic, model_name, model, model_evaluator(model, dataset))\n",
    "\n",
    "# Convert dictionary to DataFrame:\n",
    "analysis_df = pd.DataFrame.from_dict(analysis_dic, orient=\"index\")\n",
    "\n",
    "# Save the DataFrame to a CSV file:\n",
    "analysis_df.to_csv('analysis.csv', index=False, header=False)"
   ]
  },
  {
   "cell_type": "markdown",
   "source": [
    "## Task 2"
   ],
   "metadata": {
    "id": "WY3XAv0hFf-Z"
   },
   "id": "WY3XAv0hFf-Z"
  },
  {
   "cell_type": "code",
   "execution_count": 11,
   "id": "2d2a8cb3",
   "metadata": {
    "id": "2d2a8cb3"
   },
   "outputs": [],
   "source": [
    "# Load the pretrained embedding models:\n",
    "model_name1 = \"glove-wiki-gigaword-300\"\n",
    "model_name2 = \"fasttext-wiki-news-subwords-300\"\n",
    "model_name3 = \"glove-twitter-100\"\n",
    "model_name4 = \"glove-twitter-200\"\n",
    "\n",
    "model1 = gensim.downloader.load(model_name1)\n",
    "model2 = gensim.downloader.load(model_name2)\n",
    "model3 = gensim.downloader.load(model_name3)\n",
    "model4 = gensim.downloader.load(model_name4)\n",
    "\n",
    "# Save the data:\n",
    "save_data(analysis_dic, model_name1, model1, model_evaluator(model1, dataset))\n",
    "save_data(analysis_dic, model_name2, model2, model_evaluator(model2, dataset))\n",
    "save_data(analysis_dic, model_name3, model3, model_evaluator(model3, dataset))\n",
    "save_data(analysis_dic, model_name4, model4, model_evaluator(model4, dataset))\n",
    "\n",
    "# Convert dictionary to DataFrame:\n",
    "analysis_df = pd.DataFrame.from_dict(analysis_dic, orient=\"index\")\n",
    "\n",
    "# Save the DataFrame to a CSV file:\n",
    "analysis_df.to_csv('analysis.csv', index=False, header=False)"
   ]
  },
  {
   "cell_type": "markdown",
   "source": [
    "## Task 3"
   ],
   "metadata": {
    "id": "F4epcrUSFwZI"
   },
   "id": "F4epcrUSFwZI"
  },
  {
   "cell_type": "code",
   "execution_count": 12,
   "id": "dfe17b3e",
   "metadata": {
    "id": "dfe17b3e"
   },
   "outputs": [],
   "source": [
    "# Declare variables that will be used in the task, such as the books, the window\n",
    "# sizes or the embedding sizes:\n",
    "books = ['Books/agnes_grey.txt', 'Books/frankestein.txt', 'Books/jane_eyre.txt',\n",
    "         'Books/little_women.txt', 'Books/mrs_dalloway.txt', 'Books/pride_and_prejudice.txt',\n",
    "         'Books/regiment_of_women.txt', 'Books/wuthering_heights.txt']\n",
    "window_sizes = [100, 200]\n",
    "embedding_sizes = [100, 300]\n",
    "\n",
    "for window_size in window_sizes:\n",
    "    for embedding_size in embedding_sizes:\n",
    "        model_name = f'Model_W{window_size}_E{embedding_size}'\n",
    "\n",
    "        # Preprocess books:\n",
    "        sentences = preprocess_books(books)\n",
    "\n",
    "        # Train Word2Vec model:\n",
    "        model = Word2Vec(sentences, vector_size = embedding_size, window = window_size, min_count = 1, workers = 4)\n",
    "\n",
    "        # Save details to CSV:\n",
    "        save_data(analysis_dic, model_name, model.wv, model_evaluator(model.wv, dataset))\n",
    "\n",
    "        # Convert dictionary to DataFrame:\n",
    "        analysis_df = pd.DataFrame.from_dict(analysis_dic, orient=\"index\")\n",
    "\n",
    "        # Save the DataFrame to a CSV file:\n",
    "        analysis_df.to_csv('analysis.csv', index=False, header=False)"
   ]
  },
  {
   "cell_type": "markdown",
   "source": [
    "## Comparison of the performance of models"
   ],
   "metadata": {
    "id": "2FccYRI_QAmZ"
   },
   "id": "2FccYRI_QAmZ"
  },
  {
   "cell_type": "code",
   "execution_count": 13,
   "id": "064d103a",
   "metadata": {
    "colab": {
     "base_uri": "https://localhost:8080/",
     "height": 607
    },
    "id": "064d103a",
    "outputId": "88a39a45-7656-48a7-9520-e5f1753c57c4"
   },
   "outputs": [
    {
     "output_type": "display_data",
     "data": {
      "text/plain": [
       "<Figure size 1000x600 with 1 Axes>"
      ],
      "image/png": "[encoded data removed]"
     },
     "metadata": {}
    }
   ],
   "source": [
    "# Load analysis results from the CSV file:\n",
    "analysis_df = pd.read_csv('analysis.csv', header=None, names=['model_name', 'vocabulary_size', 'correct_labels', 'answered_questions', 'accuracy'])\n",
    "\n",
    "# Sort the DataFrame by accuracy in descending order:\n",
    "analysis_df = analysis_df.sort_values(by='accuracy', ascending=False)\n",
    "\n",
    "# Plot the bar graph:\n",
    "plt.figure(figsize=(10, 6))\n",
    "plt.bar(analysis_df['model_name'], analysis_df['accuracy'], color=['blue', 'orange', 'green', 'red', 'purple', 'brown', 'pink', 'gray'])\n",
    "plt.xlabel('Model')\n",
    "plt.ylabel('Accuracy')\n",
    "plt.title('Model Comparison in terms of accuracy')\n",
    "plt.ylim(0, 1)  # Set y-axis limit to better visualize differences\n",
    "\n",
    "# Adding a solid red horizontal line at y=0.25 to mark the random baseline\n",
    "plt.axhline(y=0.25, color='red', linestyle='-')\n",
    "\n",
    "plt.xticks(rotation=45, ha='right')  # Rotate x-axis labels for better readability\n",
    "plt.tight_layout()\n",
    "\n",
    "# Save the plot as an image (optional):\n",
    "plt.savefig('model_comparison_accuracy.png')\n",
    "\n",
    "# Display the plot:\n",
    "plt.show()"
   ]
  }
 ],
 "metadata": {
  "kernelspec": {
   "display_name": "Python 3 (ipykernel)",
   "language": "python",
   "name": "python3"
  },
  "language_info": {
   "codemirror_mode": {
    "name": "ipython",
    "version": 3
   },
   "file_extension": ".py",
   "mimetype": "text/x-python",
   "name": "python",
   "nbconvert_exporter": "python",
   "pygments_lexer": "ipython3",
   "version": "3.11.5"
  },
  "colab": {
   "provenance": []
  }
 },
 "nbformat": 4,
 "nbformat_minor": 5
}
