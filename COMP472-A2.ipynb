{
  "cells": [
    {
      "cell_type": "markdown",
      "id": "khcvHr4JF42g",
      "metadata": {
        "id": "khcvHr4JF42g"
      },
      "source": [
        "# Import necessary libraries/modules"
      ]
    },
    {
      "cell_type": "code",
      "execution_count": 1,
      "id": "3bb4c3f4",
      "metadata": {
        "ExecuteTime": {
          "end_time": "2023-12-02T15:55:41.110757Z",
          "start_time": "2023-12-02T15:55:41.088442Z"
        },
        "colab": {
          "base_uri": "https://localhost:8080/"
        },
        "id": "3bb4c3f4",
        "outputId": "6aed70a5-873f-410a-e922-9a1ebe2fdd17"
      },
      "outputs": [
        {
          "output_type": "stream",
          "name": "stderr",
          "text": [
            "[nltk_data] Downloading package punkt to /root/nltk_data...\n",
            "[nltk_data]   Unzipping tokenizers/punkt.zip.\n"
          ]
        },
        {
          "output_type": "execute_result",
          "data": {
            "text/plain": [
              "True"
            ]
          },
          "metadata": {},
          "execution_count": 1
        }
      ],
      "source": [
        "# Import necessary libraries/functions/modules\n",
        "import nltk\n",
        "import pandas as pd\n",
        "import gensim.downloader\n",
        "import matplotlib.pyplot as plt\n",
        "from gensim.models import Word2Vec\n",
        "from nltk.tokenize import word_tokenize, sent_tokenize\n",
        "nltk.download('punkt')  # Download NLTK resources (if not done previously)"
      ]
    },
    {
      "cell_type": "markdown",
      "id": "df2c7bf5",
      "metadata": {
        "id": "df2c7bf5"
      },
      "source": [
        "# Functions"
      ]
    },
    {
      "cell_type": "code",
      "execution_count": 2,
      "id": "924bf632",
      "metadata": {
        "id": "924bf632"
      },
      "outputs": [],
      "source": [
        "# Function used to evaluate the model:\n",
        "def model_evaluator(model, dataset):\n",
        "    # Prepare the output data\n",
        "    output_data = []\n",
        "\n",
        "    # Iterate through each row in the dataset\n",
        "    for index, row in dataset.iterrows():\n",
        "        # Extract the question and answer words from the current row\n",
        "        question_word = row['question']\n",
        "        answer_word = row['answer']\n",
        "\n",
        "        # Generate a list of guess words from the current row. This means that\n",
        "        # for each row, it takes the values from the columns labeled \"0\", \"1\",\n",
        "        # \"2\", and \"3\" as the guess words\n",
        "        guess_words = [row[str(i)] for i in range(4)]\n",
        "\n",
        "        # Check if the question word is in the model\n",
        "        if question_word in model:\n",
        "            # Initialize a list to store similarities between question and guess words\n",
        "            similarities = []\n",
        "\n",
        "            # Loop through each guess word\n",
        "            for guess_word in guess_words:\n",
        "                # Check if the guess word is in the model\n",
        "                if guess_word in model:\n",
        "                    # Calculate the similarity between question and guess word using the similarity method from Gensim\n",
        "                    similarity = model.similarity(question_word, guess_word)\n",
        "                    # Store the guess word and its similarity score\n",
        "                    similarities.append((guess_word, similarity))\n",
        "\n",
        "            # Determine the best guess based on the highest similarity score\n",
        "            if similarities:\n",
        "                best_guess, _ = max(similarities, key=lambda x: x[1])\n",
        "                # Label as \"correct\" if the best guess matches the answer word\n",
        "                label = 'correct' if best_guess == answer_word else 'wrong'\n",
        "            else:\n",
        "                # If no valid guesses, set best guess to None and label as \"guess\"\n",
        "                best_guess = None\n",
        "                label = 'guess'\n",
        "        else:\n",
        "            # If question word is not in the model, no guess can be made\n",
        "            best_guess = None\n",
        "            label = 'guess'\n",
        "\n",
        "        # Append the results to the output data\n",
        "        output_data.append([question_word, answer_word, best_guess, label])\n",
        "    return output_data"
      ]
    },
    {
      "cell_type": "code",
      "execution_count": 3,
      "id": "ac4048a7",
      "metadata": {
        "id": "ac4048a7"
      },
      "outputs": [],
      "source": [
        "# Function used to transform the data into a DataFrame and CSV file:\n",
        "def output_df(output_data, model_name):\n",
        "    # Convert the output data to a DataFrame and save the output to a CSV file\n",
        "    output_df = pd.DataFrame(output_data, columns=['question-word', 'answer-word', 'guess-word', 'label'])\n",
        "    output_df.to_csv(model_name + \"-details.csv\", index=False)\n",
        "    return output_df"
      ]
    },
    {
      "cell_type": "code",
      "execution_count": 4,
      "id": "21a3f2c4",
      "metadata": {
        "id": "21a3f2c4"
      },
      "outputs": [],
      "source": [
        "# Function used to compute the metrics:\n",
        "def compute_accuracy(output_df):\n",
        "    # 1. Count the number of correct (C) and non-guess labels (V)\n",
        "    C = (output_df['label'] == 'correct').sum()\n",
        "    V = (output_df['label'] != 'guess').sum()\n",
        "\n",
        "    # 2. Calculate the accuracy\n",
        "    if V:\n",
        "        accuracy = C / V\n",
        "    else:\n",
        "        accuracy = 0\n",
        "    return C, V, accuracy"
      ]
    },
    {
      "cell_type": "code",
      "execution_count": 7,
      "id": "096cfdc6",
      "metadata": {
        "id": "096cfdc6"
      },
      "outputs": [],
      "source": [
        "# Function used to save all the details of several models in a dictionary:\n",
        "def save_data(analysis_dic, model_name, model, output_data):\n",
        "    C, V, accuracy = compute_accuracy(output_df(output_data, model_name))\n",
        "    new_entry = {\n",
        "        'model_name': model_name,\n",
        "        'vocabulary_size': len(model.key_to_index),\n",
        "        'correct_labels': C,\n",
        "        'answered_questions': V,\n",
        "        'accuracy': accuracy\n",
        "    }\n",
        "    analysis_dic[model_name] = new_entry"
      ]
    },
    {
      "cell_type": "code",
      "execution_count": 5,
      "id": "2caccdba",
      "metadata": {
        "id": "2caccdba"
      },
      "outputs": [],
      "source": [
        "# Preprocess function to tokenize and split sentences:\n",
        "def preprocess_books(books):\n",
        "    sentences = []\n",
        "    for book in books:\n",
        "        with open(book, 'r', encoding='utf-8') as file:\n",
        "            text = file.read()\n",
        "            # Tokenize into sentence\n",
        "            # .extend removes duplicates from the vocabulary list\n",
        "            sentences.extend(sent_tokenize(text))\n",
        "    return [word_tokenize(sentence.lower()) for sentence in sentences]"
      ]
    },
    {
      "cell_type": "markdown",
      "id": "c450cf90",
      "metadata": {
        "id": "c450cf90"
      },
      "source": [
        "# Tasks"
      ]
    },
    {
      "cell_type": "markdown",
      "id": "UoC0dg1cFjqw",
      "metadata": {
        "id": "UoC0dg1cFjqw"
      },
      "source": [
        "## Task 1"
      ]
    },
    {
      "cell_type": "code",
      "execution_count": 8,
      "id": "d3185f47",
      "metadata": {
        "id": "d3185f47"
      },
      "outputs": [],
      "source": [
        "# Load the pretrained embedding model:\n",
        "model_name = \"word2vec-google-news-300\"\n",
        "model = gensim.downloader.load(model_name)\n",
        "\n",
        "# Load the Synonym Test dataset:\n",
        "dataset = pd.read_csv(\"A2-Dataset/synonym.csv\")\n",
        "\n",
        "# Save the data:\n",
        "analysis_dic = {}\n",
        "save_data(analysis_dic, model_name, model, model_evaluator(model, dataset))\n",
        "\n",
        "# Convert dictionary to DataFrame:\n",
        "analysis_df = pd.DataFrame.from_dict(analysis_dic, orient=\"index\")\n",
        "\n",
        "# Save the DataFrame to a CSV file:\n",
        "analysis_df.to_csv('analysis.csv', index=False, header=False)"
      ]
    },
    {
      "cell_type": "markdown",
      "id": "WY3XAv0hFf-Z",
      "metadata": {
        "id": "WY3XAv0hFf-Z"
      },
      "source": [
        "## Task 2"
      ]
    },
    {
      "cell_type": "code",
      "execution_count": null,
      "id": "2d2a8cb3",
      "metadata": {
        "id": "2d2a8cb3"
      },
      "outputs": [],
      "source": [
        "# Load the pretrained embedding models:\n",
        "model_name1 = \"glove-wiki-gigaword-300\"\n",
        "model_name2 = \"fasttext-wiki-news-subwords-300\"\n",
        "model_name3 = \"glove-twitter-100\"\n",
        "model_name4 = \"glove-twitter-200\"\n",
        "\n",
        "model1 = gensim.downloader.load(model_name1)\n",
        "model2 = gensim.downloader.load(model_name2)\n",
        "model3 = gensim.downloader.load(model_name3)\n",
        "model4 = gensim.downloader.load(model_name4)\n",
        "\n",
        "# Save the data:\n",
        "save_data(analysis_dic, model_name1, model1, model_evaluator(model1, dataset))\n",
        "save_data(analysis_dic, model_name2, model2, model_evaluator(model2, dataset))\n",
        "save_data(analysis_dic, model_name3, model3, model_evaluator(model3, dataset))\n",
        "save_data(analysis_dic, model_name4, model4, model_evaluator(model4, dataset))\n",
        "\n",
        "# Convert dictionary to DataFrame:\n",
        "analysis_df = pd.DataFrame.from_dict(analysis_dic, orient=\"index\")\n",
        "\n",
        "# Save the DataFrame to a CSV file:\n",
        "analysis_df.to_csv('analysis.csv', index=False, header=False)"
      ]
    },
    {
      "cell_type": "markdown",
      "id": "F4epcrUSFwZI",
      "metadata": {
        "id": "F4epcrUSFwZI"
      },
      "source": [
        "## Task 3"
      ]
    },
    {
      "cell_type": "code",
      "execution_count": 10,
      "id": "dfe17b3e",
      "metadata": {
        "id": "dfe17b3e"
      },
      "outputs": [],
      "source": [
        "# Declare variables that will be used in the task, such as the books, the window\n",
        "# sizes or the embedding sizes:\n",
        "books = ['Books/agnes_grey.txt', 'Books/frankestein.txt', 'Books/jane_eyre.txt',\n",
        "         'Books/little_women.txt', 'Books/mrs_dalloway.txt', 'Books/pride_and_prejudice.txt',\n",
        "         'Books/regiment_of_women.txt', 'Books/wuthering_heights.txt']\n",
        "window_sizes = [100, 200]\n",
        "embedding_sizes = [100, 300]\n",
        "\n",
        "for window_size in window_sizes:\n",
        "    for embedding_size in embedding_sizes:\n",
        "        model_name = f'Model_W{window_size}_E{embedding_size}'\n",
        "\n",
        "        # Preprocess books:\n",
        "        sentences = preprocess_books(books)\n",
        "\n",
        "        # Train Word2Vec model:\n",
        "        model = Word2Vec(sentences, vector_size = embedding_size, window = window_size, min_count = 1, workers = 4)\n",
        "\n",
        "        # Save details to CSV:\n",
        "        save_data(analysis_dic, model_name, model.wv, model_evaluator(model.wv, dataset))\n",
        "\n",
        "        # Convert dictionary to DataFrame:\n",
        "        analysis_df = pd.DataFrame.from_dict(analysis_dic, orient=\"index\")\n",
        "\n",
        "        # Save the DataFrame to a CSV file:\n",
        "        analysis_df.to_csv('analysis.csv', index=False, header=False)"
      ]
    },
    {
      "cell_type": "markdown",
      "id": "2FccYRI_QAmZ",
      "metadata": {
        "id": "2FccYRI_QAmZ"
      },
      "source": [
        "## Comparison of the performance of models"
      ]
    },
    {
      "cell_type": "markdown",
      "source": [
        "Now it is time to compare all the models between them. In order to do this, we decided to compare their performances with a random baseline and with a human-gold standard.\n",
        "\n",
        "The random baseline will be represented in the graph by a red line. It is the expected accuracy from a model that only has the ability to randomly choose on of the given possible answers. In our case since we are operating one a bag of words with 4 synonym possibilities (only one of which is correct), the random baseline sits at 25%. It is the baseline to compare our models too because we want to guarantee our results are better than simply guessing and, more importantly, quantify how better they are. So we can see that clearly the bottom 3 models are barely better than guessing and cannot be considered to have learned from the dataset."
      ],
      "metadata": {
        "id": "IpC9VnJ7lVQL"
      },
      "id": "IpC9VnJ7lVQL"
    },
    {
      "cell_type": "code",
      "execution_count": 34,
      "id": "064d103a",
      "metadata": {
        "colab": {
          "base_uri": "https://localhost:8080/",
          "height": 607
        },
        "id": "064d103a",
        "outputId": "d8973d3b-f189-4895-d165-f2a06851b6ea"
      },
      "outputs": [
        {
          "output_type": "display_data",
          "data": {
            "text/plain": [
              "<Figure size 1000x600 with 1 Axes>"
            ],
            "image/png": "[encoded data removed]"
          },
          "metadata": {}
        }
      ],
      "source": [
        "# Load analysis results from the CSV file:\n",
        "analysis_df = pd.read_csv('analysis.csv', header=None, names=['model_name', 'vocabulary_size', 'correct_labels', 'answered_questions', 'accuracy'])\n",
        "\n",
        "# Sort the DataFrame by accuracy in descending order:\n",
        "analysis_df = analysis_df.sort_values(by='accuracy', ascending=False)\n",
        "\n",
        "# Plot the bar graph:\n",
        "plt.figure(figsize=(10, 6))\n",
        "plt.bar(analysis_df['model_name'], analysis_df['accuracy'], color=['blue', 'orange', 'green', 'red', 'purple', 'brown', 'pink', 'gray'])\n",
        "plt.xlabel('Model')\n",
        "plt.ylabel('Accuracy')\n",
        "plt.title('Model comparison in terms of accuracy')\n",
        "plt.ylim(0, 1)  # Set y-axis limit to better visualize differences\n",
        "\n",
        "# Adding two solid horizontal lines: one at y=0.25 to mark the random baseline\n",
        "# and another one at y=0.88 to mark the human-gold standard.\n",
        "plt.axhline(y=0.25, color='red', linestyle='-')\n",
        "plt.axhline(y=0.88, color='blue', linestyle='-')\n",
        "\n",
        "plt.xticks(rotation=45, ha='right')  # Rotate x-axis labels for better readability\n",
        "plt.tight_layout()\n",
        "\n",
        "# Save the plot as an image (optional):\n",
        "plt.savefig('model_comparison_accuracy.png')\n",
        "\n",
        "# Display the plot:\n",
        "plt.show()"
      ]
    },
    {
      "cell_type": "code",
      "execution_count": 35,
      "id": "e3393b19",
      "metadata": {
        "id": "e3393b19"
      },
      "outputs": [],
      "source": [
        "analysis_df['embedding_size'] = [300, 300, 300, 200, 100, 100, 100, 300, 300]"
      ]
    },
    {
      "cell_type": "code",
      "execution_count": 36,
      "id": "e02ba030",
      "metadata": {
        "colab": {
          "base_uri": "https://localhost:8080/",
          "height": 331
        },
        "id": "e02ba030",
        "outputId": "d844c174-7d6c-42d2-cd6b-3bde7b195bdd"
      },
      "outputs": [
        {
          "output_type": "execute_result",
          "data": {
            "text/plain": [
              "                             Model  Vocabulary Size  Correct Predictions  \\\n",
              "2  fasttext-wiki-news-subwords-300           999999                   74   \n",
              "1          glove-wiki-gigaword-300           400000                   71   \n",
              "0         word2vec-google-news-300          3000000                   70   \n",
              "4                glove-twitter-200          1193514                   44   \n",
              "3                glove-twitter-100          1193514                   39   \n",
              "7                  Model_W200_E100            32604                   23   \n",
              "5                  Model_W100_E100            32604                   17   \n",
              "6                  Model_W100_E300            32604                   17   \n",
              "8                  Model_W200_E300            32604                   16   \n",
              "\n",
              "   Total Instances  Accuracy  Embedding Size  \n",
              "2               80  0.925000             300  \n",
              "1               80  0.887500             300  \n",
              "0               79  0.886076             300  \n",
              "4               78  0.564103             200  \n",
              "3               78  0.500000             100  \n",
              "7               65  0.353846             100  \n",
              "5               65  0.261538             100  \n",
              "6               65  0.261538             300  \n",
              "8               65  0.246154             300  "
            ],
            "text/html": [
              "\n",
              "  <div id=\"df-adbe4a71-0363-49d2-ba3e-53380e674c53\" class=\"colab-df-container\">\n",
              "    <div>\n",
              "<style scoped>\n",
              "    .dataframe tbody tr th:only-of-type {\n",
              "        vertical-align: middle;\n",
              "    }\n",
              "\n",
              "    .dataframe tbody tr th {\n",
              "        vertical-align: top;\n",
              "    }\n",
              "\n",
              "    .dataframe thead th {\n",
              "        text-align: right;\n",
              "    }\n",
              "</style>\n",
              "<table border=\"1\" class=\"dataframe\">\n",
              "  <thead>\n",
              "    <tr style=\"text-align: right;\">\n",
              "      <th></th>\n",
              "      <th>Model</th>\n",
              "      <th>Vocabulary Size</th>\n",
              "      <th>Correct Predictions</th>\n",
              "      <th>Total Instances</th>\n",
              "      <th>Accuracy</th>\n",
              "      <th>Embedding Size</th>\n",
              "    </tr>\n",
              "  </thead>\n",
              "  <tbody>\n",
              "    <tr>\n",
              "      <th>2</th>\n",
              "      <td>fasttext-wiki-news-subwords-300</td>\n",
              "      <td>999999</td>\n",
              "      <td>74</td>\n",
              "      <td>80</td>\n",
              "      <td>0.925000</td>\n",
              "      <td>300</td>\n",
              "    </tr>\n",
              "    <tr>\n",
              "      <th>1</th>\n",
              "      <td>glove-wiki-gigaword-300</td>\n",
              "      <td>400000</td>\n",
              "      <td>71</td>\n",
              "      <td>80</td>\n",
              "      <td>0.887500</td>\n",
              "      <td>300</td>\n",
              "    </tr>\n",
              "    <tr>\n",
              "      <th>0</th>\n",
              "      <td>word2vec-google-news-300</td>\n",
              "      <td>3000000</td>\n",
              "      <td>70</td>\n",
              "      <td>79</td>\n",
              "      <td>0.886076</td>\n",
              "      <td>300</td>\n",
              "    </tr>\n",
              "    <tr>\n",
              "      <th>4</th>\n",
              "      <td>glove-twitter-200</td>\n",
              "      <td>1193514</td>\n",
              "      <td>44</td>\n",
              "      <td>78</td>\n",
              "      <td>0.564103</td>\n",
              "      <td>200</td>\n",
              "    </tr>\n",
              "    <tr>\n",
              "      <th>3</th>\n",
              "      <td>glove-twitter-100</td>\n",
              "      <td>1193514</td>\n",
              "      <td>39</td>\n",
              "      <td>78</td>\n",
              "      <td>0.500000</td>\n",
              "      <td>100</td>\n",
              "    </tr>\n",
              "    <tr>\n",
              "      <th>7</th>\n",
              "      <td>Model_W200_E100</td>\n",
              "      <td>32604</td>\n",
              "      <td>23</td>\n",
              "      <td>65</td>\n",
              "      <td>0.353846</td>\n",
              "      <td>100</td>\n",
              "    </tr>\n",
              "    <tr>\n",
              "      <th>5</th>\n",
              "      <td>Model_W100_E100</td>\n",
              "      <td>32604</td>\n",
              "      <td>17</td>\n",
              "      <td>65</td>\n",
              "      <td>0.261538</td>\n",
              "      <td>100</td>\n",
              "    </tr>\n",
              "    <tr>\n",
              "      <th>6</th>\n",
              "      <td>Model_W100_E300</td>\n",
              "      <td>32604</td>\n",
              "      <td>17</td>\n",
              "      <td>65</td>\n",
              "      <td>0.261538</td>\n",
              "      <td>300</td>\n",
              "    </tr>\n",
              "    <tr>\n",
              "      <th>8</th>\n",
              "      <td>Model_W200_E300</td>\n",
              "      <td>32604</td>\n",
              "      <td>16</td>\n",
              "      <td>65</td>\n",
              "      <td>0.246154</td>\n",
              "      <td>300</td>\n",
              "    </tr>\n",
              "  </tbody>\n",
              "</table>\n",
              "</div>\n",
              "    <div class=\"colab-df-buttons\">\n",
              "\n",
              "  <div class=\"colab-df-container\">\n",
              "    <button class=\"colab-df-convert\" onclick=\"convertToInteractive('df-adbe4a71-0363-49d2-ba3e-53380e674c53')\"\n",
              "            title=\"Convert this dataframe to an interactive table.\"\n",
              "            style=\"display:none;\">\n",
              "\n",
              "  <svg xmlns=\"http://www.w3.org/2000/svg\" height=\"24px\" viewBox=\"0 -960 960 960\">\n",
              "    <path d=\"M120-120v-720h720v720H120Zm60-500h600v-160H180v160Zm220 220h160v-160H400v160Zm0 220h160v-160H400v160ZM180-400h160v-160H180v160Zm440 0h160v-160H620v160ZM180-180h160v-160H180v160Zm440 0h160v-160H620v160Z\"/>\n",
              "  </svg>\n",
              "    </button>\n",
              "\n",
              "  <style>\n",
              "    .colab-df-container {\n",
              "      display:flex;\n",
              "      gap: 12px;\n",
              "    }\n",
              "\n",
              "    .colab-df-convert {\n",
              "      background-color: #E8F0FE;\n",
              "      border: none;\n",
              "      border-radius: 50%;\n",
              "      cursor: pointer;\n",
              "      display: none;\n",
              "      fill: #1967D2;\n",
              "      height: 32px;\n",
              "      padding: 0 0 0 0;\n",
              "      width: 32px;\n",
              "    }\n",
              "\n",
              "    .colab-df-convert:hover {\n",
              "      background-color: #E2EBFA;\n",
              "      box-shadow: 0px 1px 2px rgba(60, 64, 67, 0.3), 0px 1px 3px 1px rgba(60, 64, 67, 0.15);\n",
              "      fill: #174EA6;\n",
              "    }\n",
              "\n",
              "    .colab-df-buttons div {\n",
              "      margin-bottom: 4px;\n",
              "    }\n",
              "\n",
              "    [theme=dark] .colab-df-convert {\n",
              "      background-color: #3B4455;\n",
              "      fill: #D2E3FC;\n",
              "    }\n",
              "\n",
              "    [theme=dark] .colab-df-convert:hover {\n",
              "      background-color: #434B5C;\n",
              "      box-shadow: 0px 1px 3px 1px rgba(0, 0, 0, 0.15);\n",
              "      filter: drop-shadow(0px 1px 2px rgba(0, 0, 0, 0.3));\n",
              "      fill: #FFFFFF;\n",
              "    }\n",
              "  </style>\n",
              "\n",
              "    <script>\n",
              "      const buttonEl =\n",
              "        document.querySelector('#df-adbe4a71-0363-49d2-ba3e-53380e674c53 button.colab-df-convert');\n",
              "      buttonEl.style.display =\n",
              "        google.colab.kernel.accessAllowed ? 'block' : 'none';\n",
              "\n",
              "      async function convertToInteractive(key) {\n",
              "        const element = document.querySelector('#df-adbe4a71-0363-49d2-ba3e-53380e674c53');\n",
              "        const dataTable =\n",
              "          await google.colab.kernel.invokeFunction('convertToInteractive',\n",
              "                                                    [key], {});\n",
              "        if (!dataTable) return;\n",
              "\n",
              "        const docLinkHtml = 'Like what you see? Visit the ' +\n",
              "          '<a target=\"_blank\" href=https://colab.research.google.com/notebooks/data_table.ipynb>data table notebook</a>'\n",
              "          + ' to learn more about interactive tables.';\n",
              "        element.innerHTML = '';\n",
              "        dataTable['output_type'] = 'display_data';\n",
              "        await google.colab.output.renderOutput(dataTable, element);\n",
              "        const docLink = document.createElement('div');\n",
              "        docLink.innerHTML = docLinkHtml;\n",
              "        element.appendChild(docLink);\n",
              "      }\n",
              "    </script>\n",
              "  </div>\n",
              "\n",
              "\n",
              "<div id=\"df-9494d1a0-7e2e-4b98-8434-4a5ffb9fb20a\">\n",
              "  <button class=\"colab-df-quickchart\" onclick=\"quickchart('df-9494d1a0-7e2e-4b98-8434-4a5ffb9fb20a')\"\n",
              "            title=\"Suggest charts\"\n",
              "            style=\"display:none;\">\n",
              "\n",
              "<svg xmlns=\"http://www.w3.org/2000/svg\" height=\"24px\"viewBox=\"0 0 24 24\"\n",
              "     width=\"24px\">\n",
              "    <g>\n",
              "        <path d=\"M19 3H5c-1.1 0-2 .9-2 2v14c0 1.1.9 2 2 2h14c1.1 0 2-.9 2-2V5c0-1.1-.9-2-2-2zM9 17H7v-7h2v7zm4 0h-2V7h2v10zm4 0h-2v-4h2v4z\"/>\n",
              "    </g>\n",
              "</svg>\n",
              "  </button>\n",
              "\n",
              "<style>\n",
              "  .colab-df-quickchart {\n",
              "      --bg-color: #E8F0FE;\n",
              "      --fill-color: #1967D2;\n",
              "      --hover-bg-color: #E2EBFA;\n",
              "      --hover-fill-color: #174EA6;\n",
              "      --disabled-fill-color: #AAA;\n",
              "      --disabled-bg-color: #DDD;\n",
              "  }\n",
              "\n",
              "  [theme=dark] .colab-df-quickchart {\n",
              "      --bg-color: #3B4455;\n",
              "      --fill-color: #D2E3FC;\n",
              "      --hover-bg-color: #434B5C;\n",
              "      --hover-fill-color: #FFFFFF;\n",
              "      --disabled-bg-color: #3B4455;\n",
              "      --disabled-fill-color: #666;\n",
              "  }\n",
              "\n",
              "  .colab-df-quickchart {\n",
              "    background-color: var(--bg-color);\n",
              "    border: none;\n",
              "    border-radius: 50%;\n",
              "    cursor: pointer;\n",
              "    display: none;\n",
              "    fill: var(--fill-color);\n",
              "    height: 32px;\n",
              "    padding: 0;\n",
              "    width: 32px;\n",
              "  }\n",
              "\n",
              "  .colab-df-quickchart:hover {\n",
              "    background-color: var(--hover-bg-color);\n",
              "    box-shadow: 0 1px 2px rgba(60, 64, 67, 0.3), 0 1px 3px 1px rgba(60, 64, 67, 0.15);\n",
              "    fill: var(--button-hover-fill-color);\n",
              "  }\n",
              "\n",
              "  .colab-df-quickchart-complete:disabled,\n",
              "  .colab-df-quickchart-complete:disabled:hover {\n",
              "    background-color: var(--disabled-bg-color);\n",
              "    fill: var(--disabled-fill-color);\n",
              "    box-shadow: none;\n",
              "  }\n",
              "\n",
              "  .colab-df-spinner {\n",
              "    border: 2px solid var(--fill-color);\n",
              "    border-color: transparent;\n",
              "    border-bottom-color: var(--fill-color);\n",
              "    animation:\n",
              "      spin 1s steps(1) infinite;\n",
              "  }\n",
              "\n",
              "  @keyframes spin {\n",
              "    0% {\n",
              "      border-color: transparent;\n",
              "      border-bottom-color: var(--fill-color);\n",
              "      border-left-color: var(--fill-color);\n",
              "    }\n",
              "    20% {\n",
              "      border-color: transparent;\n",
              "      border-left-color: var(--fill-color);\n",
              "      border-top-color: var(--fill-color);\n",
              "    }\n",
              "    30% {\n",
              "      border-color: transparent;\n",
              "      border-left-color: var(--fill-color);\n",
              "      border-top-color: var(--fill-color);\n",
              "      border-right-color: var(--fill-color);\n",
              "    }\n",
              "    40% {\n",
              "      border-color: transparent;\n",
              "      border-right-color: var(--fill-color);\n",
              "      border-top-color: var(--fill-color);\n",
              "    }\n",
              "    60% {\n",
              "      border-color: transparent;\n",
              "      border-right-color: var(--fill-color);\n",
              "    }\n",
              "    80% {\n",
              "      border-color: transparent;\n",
              "      border-right-color: var(--fill-color);\n",
              "      border-bottom-color: var(--fill-color);\n",
              "    }\n",
              "    90% {\n",
              "      border-color: transparent;\n",
              "      border-bottom-color: var(--fill-color);\n",
              "    }\n",
              "  }\n",
              "</style>\n",
              "\n",
              "  <script>\n",
              "    async function quickchart(key) {\n",
              "      const quickchartButtonEl =\n",
              "        document.querySelector('#' + key + ' button');\n",
              "      quickchartButtonEl.disabled = true;  // To prevent multiple clicks.\n",
              "      quickchartButtonEl.classList.add('colab-df-spinner');\n",
              "      try {\n",
              "        const charts = await google.colab.kernel.invokeFunction(\n",
              "            'suggestCharts', [key], {});\n",
              "      } catch (error) {\n",
              "        console.error('Error during call to suggestCharts:', error);\n",
              "      }\n",
              "      quickchartButtonEl.classList.remove('colab-df-spinner');\n",
              "      quickchartButtonEl.classList.add('colab-df-quickchart-complete');\n",
              "    }\n",
              "    (() => {\n",
              "      let quickchartButtonEl =\n",
              "        document.querySelector('#df-9494d1a0-7e2e-4b98-8434-4a5ffb9fb20a button');\n",
              "      quickchartButtonEl.style.display =\n",
              "        google.colab.kernel.accessAllowed ? 'block' : 'none';\n",
              "    })();\n",
              "  </script>\n",
              "</div>\n",
              "    </div>\n",
              "  </div>\n"
            ]
          },
          "metadata": {},
          "execution_count": 36
        }
      ],
      "source": [
        "analysis_df.columns = ['Model', 'Vocabulary Size', 'Correct Predictions', 'Total Instances', 'Accuracy', 'Embedding Size']\n",
        "analysis_df"
      ]
    },
    {
      "cell_type": "markdown",
      "id": "31e105f9",
      "metadata": {
        "id": "31e105f9"
      },
      "source": [
        "### Comparison of models with pre-defined corpus\n",
        "* **Effect of Dataset Size and Embedding Dimension.** Larger datasets (with more vocabulary) can support higher-dimensional embeddings as they provide more training data to inform the model. We can see that \"fasttext-wiki-news-subwords-300\", \"glove-wiki-gigaword-300\" and \"word2vec-google-news-300\" have the best accuracy and all of them have an embedding size of 300. On the other hand, the models fed with smaller datasets and with that embedding size (\"Model_W200_E300\" and \"Model_W100_E300\") perform worse.\n",
        "\n",
        "* **Embedding Size and Accuracy**. There isn't a clear correlation between embedding size and accuracy, as seen by the varying accuracies for models with the same embedding size.\n",
        "\n",
        "* **Impact of Embedding Size on models with the same corpus**. \"glove-twitter-100\" has an embedding size of 100, while \"glove-twitter-200\" has an embedding size of 200. Despite the increase in embedding size, \"glove-twitter-200\" exhibits a higher accuracy (56.41%) compared to \"glove-twitter-100\" (50%). This suggests that a larger embedding size in this case may contribute to better model performance.\n",
        "\n",
        "\n",
        "### Comparison of models with customized corpus\n",
        "* **Vocabulary size and embedding size**. The vocabulary size is consistent across all \"Model_W*\" entries, indicating that this aspect is independent of embedding size. It remains constant at 32,604.\n",
        "\n",
        "* **Corpus Size and Model Performance**. The models with lower accuracy are the ones with corpus generated by us, as they are the ones with a smaller corpus (we took 8 books and checked that the results improved with respect to taking just 5 books, so the larger the vocabulary, the better model we will generally get).\n",
        "\n",
        "* **Window Size Influence**. In our created models, we observe that those with a smaller window size (W=100) exhibit slightly better performance compared to those with a larger window size (W=200). This observation suggests that, in the context of a small vocabulary size, a smaller window size may lead to better model performance."
      ]
    },
    {
      "cell_type": "markdown",
      "id": "c7c47e2f",
      "metadata": {
        "id": "c7c47e2f"
      },
      "source": [
        "### Comparison of Models with Respect to Human Performance\n",
        "\n",
        "**Human Performance:**\n",
        "- *Average Accuracy per Question:* **88.57%**\n",
        "- *Average Accuracy per Annotator:* **88.28%**\n",
        "\n",
        "#### Model Performance Observations\n",
        "\n",
        "- Our best-performing model, **\"fasttext-wiki-news-subwords-300,\"** achieved an impressive accuracy of **92.50%**, comparable to the average human accuracy.\n",
        "- Models **\"word2vec-google-news-300\"** and **\"glove-wiki-gigaword-300\"** also demonstrated strong performance, achieving accuracies close to human levels.\n",
        "- The \"glove-twitter\" models with smaller embedding sizes (100) performed at **50.00%** and **56.41%**, suggesting potential limitations for the synonyms test compared to other models.\n",
        "\n",
        "#### General Model Conclusions\n",
        "\n",
        "- The models, especially **\"fasttext-wiki-news-subwords-300,\" \"word2vec-google-news-300,\"** and **\"glove-wiki-gigaword-300,\"** exhibit competitive performance compared to human annotators.\n",
        "- The influence of embedding size and pre-trained embeddings is evident in the varying accuracies across different models and corpora.\n",
        "- Further optimization and experimentation with different embeddings may lead to improvements in overall model performance."
      ]
    }
  ],
  "metadata": {
    "colab": {
      "provenance": []
    },
    "kernelspec": {
      "display_name": "Python 3 (ipykernel)",
      "language": "python",
      "name": "python3"
    },
    "language_info": {
      "codemirror_mode": {
        "name": "ipython",
        "version": 3
      },
      "file_extension": ".py",
      "mimetype": "text/x-python",
      "name": "python",
      "nbconvert_exporter": "python",
      "pygments_lexer": "ipython3",
      "version": "3.11.5"
    }
  },
  "nbformat": 4,
  "nbformat_minor": 5
}